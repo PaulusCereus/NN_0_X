{
 "cells": [
  {
   "cell_type": "code",
   "execution_count": 1,
   "id": "d64cd04b",
   "metadata": {},
   "outputs": [
    {
     "name": "stdout",
     "output_type": "stream",
     "text": [
      "Requirement already satisfied: gdown in /home/qwerty/.local/lib/python3.8/site-packages (4.2.1)\r\n",
      "Requirement already satisfied: filelock in /home/qwerty/.local/lib/python3.8/site-packages (from gdown) (3.4.2)\r\n",
      "Requirement already satisfied: six in /home/qwerty/.local/lib/python3.8/site-packages (from gdown) (1.15.0)\r\n",
      "Requirement already satisfied: beautifulsoup4 in /home/qwerty/.local/lib/python3.8/site-packages (from gdown) (4.10.0)\r\n",
      "Requirement already satisfied: requests[socks] in /usr/lib/python3/dist-packages (from gdown) (2.22.0)\r\n",
      "Requirement already satisfied: tqdm in /home/qwerty/.local/lib/python3.8/site-packages (from gdown) (4.62.3)\r\n",
      "Requirement already satisfied: soupsieve>1.2 in /home/qwerty/.local/lib/python3.8/site-packages (from beautifulsoup4->gdown) (2.3.1)\r\n",
      "Requirement already satisfied: PySocks!=1.5.7,>=1.5.6 in /home/qwerty/.local/lib/python3.8/site-packages (from requests[socks]->gdown) (1.7.1)\r\n"
     ]
    },
    {
     "data": {
      "text/plain": [
       "'hw_pro.zip'"
      ]
     },
     "execution_count": 1,
     "metadata": {},
     "output_type": "execute_result"
    }
   ],
   "source": [
    "!pip install gdown\n",
    "import gdown\n",
    "gdown.download('https://storage.googleapis.com/datasets_ai/Bas%D0%B5Unit/1_intro/hw_pro.zip', None, quiet=True)"
   ]
  },
  {
   "cell_type": "code",
   "execution_count": 1,
   "id": "507d6c9d",
   "metadata": {},
   "outputs": [
    {
     "name": "stdout",
     "output_type": "stream",
     "text": [
      "NN_0_X.ipynb  hw_pro  hw_pro.zip\r\n"
     ]
    }
   ],
   "source": [
    "!ls"
   ]
  },
  {
   "cell_type": "code",
   "execution_count": 4,
   "id": "d11e3b08",
   "metadata": {},
   "outputs": [],
   "source": [
    "!unzip -q hw_pro"
   ]
  },
  {
   "cell_type": "code",
   "execution_count": 5,
   "id": "98f23a14",
   "metadata": {},
   "outputs": [
    {
     "name": "stdout",
     "output_type": "stream",
     "text": [
      "Untitled.ipynb\thw_pro\thw_pro.zip\r\n"
     ]
    }
   ],
   "source": [
    "!ls"
   ]
  },
  {
   "cell_type": "code",
   "execution_count": 10,
   "id": "7a1b558d",
   "metadata": {},
   "outputs": [],
   "source": [
    "import pandas as pd\n",
    "import numpy as np\n",
    "import os\n",
    "import matplotlib.pyplot as plt\n",
    "from tensorflow.keras.preprocessing import image\n",
    "from tensorflow.keras import utils\n",
    "from tensorflow.keras.models import Sequential\n",
    "from tensorflow.keras.layers import Dense\n",
    "from tensorflow.keras.optimizers import Adam\n",
    "\n",
    "%matplotlib inline"
   ]
  },
  {
   "cell_type": "markdown",
   "id": "a47f66f5",
   "metadata": {},
   "source": [
    "# Open Files From Folder"
   ]
  },
  {
   "cell_type": "code",
   "execution_count": 15,
   "id": "b7350dde",
   "metadata": {},
   "outputs": [
    {
     "name": "stdout",
     "output_type": "stream",
     "text": [
      "(102, 20, 20, 1) (102,)\n"
     ]
    }
   ],
   "source": [
    "base_dir = 'hw_pro'\n",
    "x_train = []\n",
    "y_train = []\n",
    "img_height = 20\n",
    "img_width = 20\n",
    "for patch in os.listdir(base_dir):\n",
    "    for img in os.listdir(base_dir + '/' + patch):\n",
    "        x_train.append(image.img_to_array(image.load_img(base_dir + '/' + patch + '/' + img,\n",
    "                                                         target_size = (img_height, img_width),\n",
    "                                                        color_mode = 'grayscale')))\n",
    "        if patch == '0':\n",
    "            y_train.append(0)\n",
    "        else:\n",
    "            y_train.append(1)\n",
    "\n",
    "            \n",
    "x_train = np.array(x_train)\n",
    "y_train = np.array(y_train)\n",
    "\n",
    "print(x_train.shape, y_train.shape)"
   ]
  },
  {
   "cell_type": "code",
   "execution_count": 16,
   "id": "f6a762ad",
   "metadata": {},
   "outputs": [
    {
     "data": {
      "image/png": "[encoded data removed]",
      "text/plain": [
       "<Figure size 432x288 with 1 Axes>"
      ]
     },
     "metadata": {
      "needs_background": "light"
     },
     "output_type": "display_data"
    }
   ],
   "source": [
    "plt.imshow(x_train[2].reshape(20, 20), cmap = 'gray')\n",
    "plt.show()"
   ]
  },
  {
   "cell_type": "code",
   "execution_count": 17,
   "id": "04814c8f",
   "metadata": {},
   "outputs": [
    {
     "name": "stdout",
     "output_type": "stream",
     "text": [
      "(102, 400)\n"
     ]
    }
   ],
   "source": [
    "x_train = x_train.reshape(x_train.shape[0], -1)\n",
    "print(x_train.shape)"
   ]
  },
  {
   "cell_type": "code",
   "execution_count": 18,
   "id": "24700358",
   "metadata": {},
   "outputs": [],
   "source": [
    "x_train = x_train.astype('float32') / 255\n",
    "y_train = utils.to_categorical(y_train, 2)"
   ]
  },
  {
   "cell_type": "code",
   "execution_count": 21,
   "id": "bae2eaac",
   "metadata": {},
   "outputs": [
    {
     "name": "stdout",
     "output_type": "stream",
     "text": [
      "Epoch 1/100\n",
      "10/10 [==============================] - 1s 21ms/step - loss: 1.3141 - accuracy: 0.4505 - val_loss: 0.1226 - val_accuracy: 1.0000\n",
      "Epoch 2/100\n",
      "10/10 [==============================] - 0s 7ms/step - loss: 0.9216 - accuracy: 0.4505 - val_loss: 0.2685 - val_accuracy: 1.0000\n",
      "Epoch 3/100\n",
      "10/10 [==============================] - 0s 8ms/step - loss: 0.7344 - accuracy: 0.5165 - val_loss: 0.4958 - val_accuracy: 1.0000\n",
      "Epoch 4/100\n",
      "10/10 [==============================] - 0s 9ms/step - loss: 0.6317 - accuracy: 0.7033 - val_loss: 0.6165 - val_accuracy: 0.8182\n",
      "Epoch 5/100\n",
      "10/10 [==============================] - 0s 8ms/step - loss: 0.6154 - accuracy: 0.6813 - val_loss: 0.7085 - val_accuracy: 0.5455\n",
      "Epoch 6/100\n",
      "10/10 [==============================] - 0s 9ms/step - loss: 0.6098 - accuracy: 0.6703 - val_loss: 0.7381 - val_accuracy: 0.3636\n",
      "Epoch 7/100\n",
      "10/10 [==============================] - 0s 11ms/step - loss: 0.6044 - accuracy: 0.6374 - val_loss: 0.7147 - val_accuracy: 0.5455\n",
      "Epoch 8/100\n",
      "10/10 [==============================] - 0s 9ms/step - loss: 0.5936 - accuracy: 0.6923 - val_loss: 0.6452 - val_accuracy: 0.6364\n",
      "Epoch 9/100\n",
      "10/10 [==============================] - 0s 11ms/step - loss: 0.5815 - accuracy: 0.7582 - val_loss: 0.6322 - val_accuracy: 0.7273\n",
      "Epoch 10/100\n",
      "10/10 [==============================] - 0s 11ms/step - loss: 0.5727 - accuracy: 0.7802 - val_loss: 0.6513 - val_accuracy: 0.6364\n",
      "Epoch 11/100\n",
      "10/10 [==============================] - 0s 11ms/step - loss: 0.5645 - accuracy: 0.7582 - val_loss: 0.6547 - val_accuracy: 0.6364\n",
      "Epoch 12/100\n",
      "10/10 [==============================] - 0s 19ms/step - loss: 0.5576 - accuracy: 0.7582 - val_loss: 0.6556 - val_accuracy: 0.6364\n",
      "Epoch 13/100\n",
      "10/10 [==============================] - 0s 20ms/step - loss: 0.5450 - accuracy: 0.8132 - val_loss: 0.5702 - val_accuracy: 0.9091\n",
      "Epoch 14/100\n",
      "10/10 [==============================] - 0s 10ms/step - loss: 0.5362 - accuracy: 0.8571 - val_loss: 0.5038 - val_accuracy: 1.0000\n",
      "Epoch 15/100\n",
      "10/10 [==============================] - 0s 9ms/step - loss: 0.5305 - accuracy: 0.8791 - val_loss: 0.5347 - val_accuracy: 0.9091\n",
      "Epoch 16/100\n",
      "10/10 [==============================] - 0s 13ms/step - loss: 0.5218 - accuracy: 0.9011 - val_loss: 0.5124 - val_accuracy: 1.0000\n",
      "Epoch 17/100\n",
      "10/10 [==============================] - 0s 12ms/step - loss: 0.5113 - accuracy: 0.9121 - val_loss: 0.5386 - val_accuracy: 0.9091\n",
      "Epoch 18/100\n",
      "10/10 [==============================] - 0s 12ms/step - loss: 0.5037 - accuracy: 0.8791 - val_loss: 0.5804 - val_accuracy: 0.9091\n",
      "Epoch 19/100\n",
      "10/10 [==============================] - 0s 13ms/step - loss: 0.4955 - accuracy: 0.8791 - val_loss: 0.5380 - val_accuracy: 1.0000\n",
      "Epoch 20/100\n",
      "10/10 [==============================] - 0s 11ms/step - loss: 0.4893 - accuracy: 0.8901 - val_loss: 0.5521 - val_accuracy: 1.0000\n",
      "Epoch 21/100\n",
      "10/10 [==============================] - 0s 5ms/step - loss: 0.4815 - accuracy: 0.9011 - val_loss: 0.5462 - val_accuracy: 1.0000\n",
      "Epoch 22/100\n",
      "10/10 [==============================] - 0s 10ms/step - loss: 0.4750 - accuracy: 0.9341 - val_loss: 0.4906 - val_accuracy: 1.0000\n",
      "Epoch 23/100\n",
      "10/10 [==============================] - 0s 10ms/step - loss: 0.4700 - accuracy: 0.9451 - val_loss: 0.5165 - val_accuracy: 1.0000\n",
      "Epoch 24/100\n",
      "10/10 [==============================] - 0s 11ms/step - loss: 0.4600 - accuracy: 0.9560 - val_loss: 0.4723 - val_accuracy: 1.0000\n",
      "Epoch 25/100\n",
      "10/10 [==============================] - 0s 11ms/step - loss: 0.4548 - accuracy: 0.9560 - val_loss: 0.4803 - val_accuracy: 1.0000\n",
      "Epoch 26/100\n",
      "10/10 [==============================] - 0s 9ms/step - loss: 0.4478 - accuracy: 0.9780 - val_loss: 0.4541 - val_accuracy: 1.0000\n",
      "Epoch 27/100\n",
      "10/10 [==============================] - 0s 10ms/step - loss: 0.4419 - accuracy: 0.9890 - val_loss: 0.4672 - val_accuracy: 1.0000\n",
      "Epoch 28/100\n",
      "10/10 [==============================] - 0s 12ms/step - loss: 0.4354 - accuracy: 0.9890 - val_loss: 0.4453 - val_accuracy: 1.0000\n",
      "Epoch 29/100\n",
      "10/10 [==============================] - 0s 11ms/step - loss: 0.4304 - accuracy: 0.9780 - val_loss: 0.4229 - val_accuracy: 1.0000\n",
      "Epoch 30/100\n",
      "10/10 [==============================] - 0s 11ms/step - loss: 0.4255 - accuracy: 0.9780 - val_loss: 0.4084 - val_accuracy: 1.0000\n",
      "Epoch 31/100\n",
      "10/10 [==============================] - 0s 11ms/step - loss: 0.4180 - accuracy: 0.9890 - val_loss: 0.4544 - val_accuracy: 1.0000\n",
      "Epoch 32/100\n",
      "10/10 [==============================] - 0s 11ms/step - loss: 0.4109 - accuracy: 0.9780 - val_loss: 0.4822 - val_accuracy: 1.0000\n",
      "Epoch 33/100\n",
      "10/10 [==============================] - 0s 10ms/step - loss: 0.4069 - accuracy: 0.9780 - val_loss: 0.4586 - val_accuracy: 1.0000\n",
      "Epoch 34/100\n",
      "10/10 [==============================] - 0s 11ms/step - loss: 0.4035 - accuracy: 0.9780 - val_loss: 0.4711 - val_accuracy: 1.0000\n",
      "Epoch 35/100\n",
      "10/10 [==============================] - 0s 11ms/step - loss: 0.3967 - accuracy: 0.9890 - val_loss: 0.4070 - val_accuracy: 1.0000\n",
      "Epoch 36/100\n",
      "10/10 [==============================] - 0s 9ms/step - loss: 0.3924 - accuracy: 1.0000 - val_loss: 0.4305 - val_accuracy: 1.0000\n",
      "Epoch 37/100\n",
      "10/10 [==============================] - 0s 9ms/step - loss: 0.3879 - accuracy: 0.9890 - val_loss: 0.4702 - val_accuracy: 1.0000\n",
      "Epoch 38/100\n",
      "10/10 [==============================] - 0s 9ms/step - loss: 0.3852 - accuracy: 0.9780 - val_loss: 0.4833 - val_accuracy: 1.0000\n",
      "Epoch 39/100\n",
      "10/10 [==============================] - 0s 8ms/step - loss: 0.3807 - accuracy: 0.9780 - val_loss: 0.4614 - val_accuracy: 1.0000\n",
      "Epoch 40/100\n",
      "10/10 [==============================] - 0s 12ms/step - loss: 0.3764 - accuracy: 0.9780 - val_loss: 0.4325 - val_accuracy: 1.0000\n",
      "Epoch 41/100\n",
      "10/10 [==============================] - 0s 12ms/step - loss: 0.3695 - accuracy: 0.9890 - val_loss: 0.3817 - val_accuracy: 1.0000\n",
      "Epoch 42/100\n",
      "10/10 [==============================] - 0s 11ms/step - loss: 0.3707 - accuracy: 1.0000 - val_loss: 0.3501 - val_accuracy: 1.0000\n",
      "Epoch 43/100\n",
      "10/10 [==============================] - 0s 17ms/step - loss: 0.3667 - accuracy: 1.0000 - val_loss: 0.3560 - val_accuracy: 1.0000\n",
      "Epoch 44/100\n",
      "10/10 [==============================] - 0s 17ms/step - loss: 0.3613 - accuracy: 1.0000 - val_loss: 0.3499 - val_accuracy: 1.0000\n",
      "Epoch 45/100\n",
      "10/10 [==============================] - 0s 22ms/step - loss: 0.3544 - accuracy: 1.0000 - val_loss: 0.4087 - val_accuracy: 1.0000\n",
      "Epoch 46/100\n",
      "10/10 [==============================] - 0s 17ms/step - loss: 0.3492 - accuracy: 1.0000 - val_loss: 0.3886 - val_accuracy: 1.0000\n",
      "Epoch 47/100\n",
      "10/10 [==============================] - 0s 16ms/step - loss: 0.3454 - accuracy: 1.0000 - val_loss: 0.3644 - val_accuracy: 1.0000\n",
      "Epoch 48/100\n",
      "10/10 [==============================] - 0s 18ms/step - loss: 0.3505 - accuracy: 1.0000 - val_loss: 0.3210 - val_accuracy: 1.0000\n",
      "Epoch 49/100\n",
      "10/10 [==============================] - 0s 17ms/step - loss: 0.3404 - accuracy: 1.0000 - val_loss: 0.3724 - val_accuracy: 1.0000\n",
      "Epoch 50/100\n",
      "10/10 [==============================] - 0s 18ms/step - loss: 0.3348 - accuracy: 1.0000 - val_loss: 0.3775 - val_accuracy: 1.0000\n",
      "Epoch 51/100\n",
      "10/10 [==============================] - 0s 9ms/step - loss: 0.3317 - accuracy: 1.0000 - val_loss: 0.3483 - val_accuracy: 1.0000\n",
      "Epoch 52/100\n",
      "10/10 [==============================] - 0s 6ms/step - loss: 0.3296 - accuracy: 1.0000 - val_loss: 0.3375 - val_accuracy: 1.0000\n",
      "Epoch 53/100\n",
      "10/10 [==============================] - 0s 9ms/step - loss: 0.3269 - accuracy: 1.0000 - val_loss: 0.3793 - val_accuracy: 1.0000\n",
      "Epoch 54/100\n",
      "10/10 [==============================] - 0s 11ms/step - loss: 0.3208 - accuracy: 1.0000 - val_loss: 0.3859 - val_accuracy: 1.0000\n",
      "Epoch 55/100\n",
      "10/10 [==============================] - 0s 11ms/step - loss: 0.3184 - accuracy: 1.0000 - val_loss: 0.3529 - val_accuracy: 1.0000\n",
      "Epoch 56/100\n",
      "10/10 [==============================] - 0s 14ms/step - loss: 0.3144 - accuracy: 1.0000 - val_loss: 0.3674 - val_accuracy: 1.0000\n",
      "Epoch 57/100\n",
      "10/10 [==============================] - 0s 17ms/step - loss: 0.3110 - accuracy: 1.0000 - val_loss: 0.3687 - val_accuracy: 1.0000\n",
      "Epoch 58/100\n"
     ]
    },
    {
     "name": "stdout",
     "output_type": "stream",
     "text": [
      "10/10 [==============================] - 0s 16ms/step - loss: 0.3083 - accuracy: 1.0000 - val_loss: 0.3515 - val_accuracy: 1.0000\n",
      "Epoch 59/100\n",
      "10/10 [==============================] - 0s 17ms/step - loss: 0.3052 - accuracy: 1.0000 - val_loss: 0.3742 - val_accuracy: 1.0000\n",
      "Epoch 60/100\n",
      "10/10 [==============================] - 0s 16ms/step - loss: 0.3025 - accuracy: 1.0000 - val_loss: 0.3653 - val_accuracy: 1.0000\n",
      "Epoch 61/100\n",
      "10/10 [==============================] - 0s 16ms/step - loss: 0.2987 - accuracy: 1.0000 - val_loss: 0.3414 - val_accuracy: 1.0000\n",
      "Epoch 62/100\n",
      "10/10 [==============================] - 0s 16ms/step - loss: 0.2963 - accuracy: 1.0000 - val_loss: 0.3257 - val_accuracy: 1.0000\n",
      "Epoch 63/100\n",
      "10/10 [==============================] - 0s 16ms/step - loss: 0.2939 - accuracy: 1.0000 - val_loss: 0.3289 - val_accuracy: 1.0000\n",
      "Epoch 64/100\n",
      "10/10 [==============================] - 0s 17ms/step - loss: 0.2900 - accuracy: 1.0000 - val_loss: 0.3317 - val_accuracy: 1.0000\n",
      "Epoch 65/100\n",
      "10/10 [==============================] - 0s 17ms/step - loss: 0.2878 - accuracy: 1.0000 - val_loss: 0.3405 - val_accuracy: 1.0000\n",
      "Epoch 66/100\n",
      "10/10 [==============================] - 0s 17ms/step - loss: 0.2842 - accuracy: 1.0000 - val_loss: 0.3259 - val_accuracy: 1.0000\n",
      "Epoch 67/100\n",
      "10/10 [==============================] - 0s 16ms/step - loss: 0.2818 - accuracy: 1.0000 - val_loss: 0.3479 - val_accuracy: 1.0000\n",
      "Epoch 68/100\n",
      "10/10 [==============================] - 0s 17ms/step - loss: 0.2800 - accuracy: 1.0000 - val_loss: 0.3619 - val_accuracy: 1.0000\n",
      "Epoch 69/100\n",
      "10/10 [==============================] - 0s 17ms/step - loss: 0.2773 - accuracy: 1.0000 - val_loss: 0.3605 - val_accuracy: 1.0000\n",
      "Epoch 70/100\n",
      "10/10 [==============================] - 0s 16ms/step - loss: 0.2753 - accuracy: 1.0000 - val_loss: 0.3399 - val_accuracy: 1.0000\n",
      "Epoch 71/100\n",
      "10/10 [==============================] - 0s 16ms/step - loss: 0.2709 - accuracy: 1.0000 - val_loss: 0.3461 - val_accuracy: 1.0000\n",
      "Epoch 72/100\n",
      "10/10 [==============================] - 0s 17ms/step - loss: 0.2681 - accuracy: 1.0000 - val_loss: 0.3177 - val_accuracy: 1.0000\n",
      "Epoch 73/100\n",
      "10/10 [==============================] - 0s 16ms/step - loss: 0.2671 - accuracy: 1.0000 - val_loss: 0.2877 - val_accuracy: 1.0000\n",
      "Epoch 74/100\n",
      "10/10 [==============================] - 0s 18ms/step - loss: 0.2637 - accuracy: 1.0000 - val_loss: 0.3098 - val_accuracy: 1.0000\n",
      "Epoch 75/100\n",
      "10/10 [==============================] - 0s 20ms/step - loss: 0.2608 - accuracy: 1.0000 - val_loss: 0.3066 - val_accuracy: 1.0000\n",
      "Epoch 76/100\n",
      "10/10 [==============================] - 0s 22ms/step - loss: 0.2582 - accuracy: 1.0000 - val_loss: 0.2943 - val_accuracy: 1.0000\n",
      "Epoch 77/100\n",
      "10/10 [==============================] - 0s 24ms/step - loss: 0.2566 - accuracy: 1.0000 - val_loss: 0.2840 - val_accuracy: 1.0000\n",
      "Epoch 78/100\n",
      "10/10 [==============================] - 0s 5ms/step - loss: 0.2543 - accuracy: 1.0000 - val_loss: 0.3119 - val_accuracy: 1.0000\n",
      "Epoch 79/100\n",
      "10/10 [==============================] - 0s 11ms/step - loss: 0.2534 - accuracy: 1.0000 - val_loss: 0.3475 - val_accuracy: 1.0000\n",
      "Epoch 80/100\n",
      "10/10 [==============================] - 0s 22ms/step - loss: 0.2494 - accuracy: 1.0000 - val_loss: 0.3112 - val_accuracy: 1.0000\n",
      "Epoch 81/100\n",
      "10/10 [==============================] - 0s 19ms/step - loss: 0.2463 - accuracy: 1.0000 - val_loss: 0.2943 - val_accuracy: 1.0000\n",
      "Epoch 82/100\n",
      "10/10 [==============================] - 0s 19ms/step - loss: 0.2438 - accuracy: 1.0000 - val_loss: 0.2798 - val_accuracy: 1.0000\n",
      "Epoch 83/100\n",
      "10/10 [==============================] - 0s 21ms/step - loss: 0.2419 - accuracy: 1.0000 - val_loss: 0.3038 - val_accuracy: 1.0000\n",
      "Epoch 84/100\n",
      "10/10 [==============================] - 0s 19ms/step - loss: 0.2398 - accuracy: 1.0000 - val_loss: 0.3184 - val_accuracy: 1.0000\n",
      "Epoch 85/100\n",
      "10/10 [==============================] - 0s 19ms/step - loss: 0.2396 - accuracy: 1.0000 - val_loss: 0.3289 - val_accuracy: 1.0000\n",
      "Epoch 86/100\n",
      "10/10 [==============================] - 0s 19ms/step - loss: 0.2369 - accuracy: 1.0000 - val_loss: 0.3167 - val_accuracy: 1.0000\n",
      "Epoch 87/100\n",
      "10/10 [==============================] - 0s 5ms/step - loss: 0.2329 - accuracy: 1.0000 - val_loss: 0.2563 - val_accuracy: 1.0000\n",
      "Epoch 88/100\n",
      "10/10 [==============================] - 0s 8ms/step - loss: 0.2333 - accuracy: 1.0000 - val_loss: 0.2370 - val_accuracy: 1.0000\n",
      "Epoch 89/100\n",
      "10/10 [==============================] - 0s 11ms/step - loss: 0.2312 - accuracy: 1.0000 - val_loss: 0.2703 - val_accuracy: 1.0000\n",
      "Epoch 90/100\n",
      "10/10 [==============================] - 0s 11ms/step - loss: 0.2270 - accuracy: 1.0000 - val_loss: 0.2785 - val_accuracy: 1.0000\n",
      "Epoch 91/100\n",
      "10/10 [==============================] - 0s 11ms/step - loss: 0.2254 - accuracy: 1.0000 - val_loss: 0.3125 - val_accuracy: 1.0000\n",
      "Epoch 92/100\n",
      "10/10 [==============================] - 0s 13ms/step - loss: 0.2250 - accuracy: 1.0000 - val_loss: 0.3201 - val_accuracy: 1.0000\n",
      "Epoch 93/100\n",
      "10/10 [==============================] - 0s 11ms/step - loss: 0.2231 - accuracy: 1.0000 - val_loss: 0.3082 - val_accuracy: 1.0000\n",
      "Epoch 94/100\n",
      "10/10 [==============================] - 0s 11ms/step - loss: 0.2182 - accuracy: 1.0000 - val_loss: 0.2586 - val_accuracy: 1.0000\n",
      "Epoch 95/100\n",
      "10/10 [==============================] - 0s 11ms/step - loss: 0.2184 - accuracy: 1.0000 - val_loss: 0.2315 - val_accuracy: 1.0000\n",
      "Epoch 96/100\n",
      "10/10 [==============================] - 0s 11ms/step - loss: 0.2182 - accuracy: 1.0000 - val_loss: 0.2345 - val_accuracy: 1.0000\n",
      "Epoch 97/100\n",
      "10/10 [==============================] - 0s 11ms/step - loss: 0.2143 - accuracy: 1.0000 - val_loss: 0.2499 - val_accuracy: 1.0000\n",
      "Epoch 98/100\n",
      "10/10 [==============================] - 0s 11ms/step - loss: 0.2107 - accuracy: 1.0000 - val_loss: 0.2763 - val_accuracy: 1.0000\n",
      "Epoch 99/100\n",
      "10/10 [==============================] - 0s 11ms/step - loss: 0.2090 - accuracy: 1.0000 - val_loss: 0.2480 - val_accuracy: 1.0000\n",
      "Epoch 100/100\n",
      "10/10 [==============================] - 0s 20ms/step - loss: 0.2089 - accuracy: 1.0000 - val_loss: 0.2359 - val_accuracy: 1.0000\n"
     ]
    }
   ],
   "source": [
    "model = Sequential()\n",
    "model.add(Dense(1000, input_dim = x_train.shape[1], activation = 'relu'))\n",
    "model.add(Dense(2, activation = 'softmax'))\n",
    "model.compile(loss = 'categorical_crossentropy', optimizer = Adam(learning_rate = 0.00001), metrics=['accuracy'])\n",
    "history = model.fit(x_train, y_train, epochs = 100, verbose = 1, validation_split = 0.1, batch_size = 10, shuffle = True)"
   ]
  },
  {
   "cell_type": "code",
   "execution_count": 24,
   "id": "50261418",
   "metadata": {},
   "outputs": [
    {
     "data": {
      "image/png": "[encoded data removed]",
      "text/plain": [
       "<Figure size 432x288 with 1 Axes>"
      ]
     },
     "metadata": {
      "needs_background": "light"
     },
     "output_type": "display_data"
    }
   ],
   "source": [
    "plt.plot(history.history['val_loss'])\n",
    "plt.plot(history.history['val_accuracy'])\n",
    "plt.show()"
   ]
  },
  {
   "cell_type": "markdown",
   "id": "67b1e284",
   "metadata": {},
   "source": [
    "# GG\n",
    "## Val_Accuracy 1.0"
   ]
  }
 ],
 "metadata": {
  "kernelspec": {
   "display_name": "Python 3 (ipykernel)",
   "language": "python",
   "name": "python3"
  },
  "language_info": {
   "codemirror_mode": {
    "name": "ipython",
    "version": 3
   },
   "file_extension": ".py",
   "mimetype": "text/x-python",
   "name": "python",
   "nbconvert_exporter": "python",
   "pygments_lexer": "ipython3",
   "version": "3.8.10"
  }
 },
 "nbformat": 4,
 "nbformat_minor": 5
}
